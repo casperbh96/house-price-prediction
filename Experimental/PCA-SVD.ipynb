{
 "cells": [
  {
   "cell_type": "code",
   "execution_count": 5,
   "metadata": {},
   "outputs": [],
   "source": [
    "# IMPORT IT ALL\n",
    "\n",
    "# Start Python Imports\n",
    "import math, time, random, datetime\n",
    "\n",
    "# Data Manipulation\n",
    "import numpy as np\n",
    "import pandas as pd\n",
    "import xlrd\n",
    "\n",
    "# Visualization \n",
    "import matplotlib.pyplot as plt\n",
    "import missingno\n",
    "import seaborn as sns\n",
    "plt.style.use('seaborn-whitegrid')\n",
    "\n",
    "# Preprocessing\n",
    "from sklearn.preprocessing import OneHotEncoder, LabelEncoder, label_binarize\n",
    "from scipy.linalg import svd"
   ]
  },
  {
   "cell_type": "code",
   "execution_count": 15,
   "metadata": {},
   "outputs": [],
   "source": [
    "# Set the data equal to some variables so we can use them later\n",
    "train = pd.read_csv('./data/train.csv')\n",
    "test = pd.read_csv('./data/test.csv')\n",
    "sample_submission = pd.read_csv('./data/sample_submission.csv')\n",
    "\n",
    "# Remove observations / attributes with too many NaN or missing values\n",
    "train = train.drop([\"Alley\", \"FireplaceQu\", \"PoolQC\", \"Fence\", \"MiscFeature\"], axis=1)"
   ]
  },
  {
   "cell_type": "code",
   "execution_count": 57,
   "metadata": {
    "scrolled": true
   },
   "outputs": [],
   "source": [
    "tempTrain = train\n",
    "\n",
    "# Get most common elemnts for each column and fill the missing values with that element\n",
    "def getMostCommonElements(df):\n",
    "    biggestElement = 0\n",
    "    #biggestElementByColumn = [] # if we want a list\n",
    "    \n",
    "    # Get the most common element by using size(), which returns the element and how common it is\n",
    "    for column in df:\n",
    "        colSize = df.groupby([column]).size()\n",
    "        \n",
    "        # Get every element in colSize and find the most common element\n",
    "        for i in colSize:\n",
    "            if i > biggestElement:\n",
    "                biggestElement = i\n",
    "                \n",
    "        #biggestElementByColumn.append(biggestElement) # if we want a list\n",
    "        tempTrain[column] = tempTrain[column].fillna(biggestElement)\n",
    "        biggestElement = 0\n",
    "\n",
    "getMostCommonElements(train)"
   ]
  },
  {
   "cell_type": "code",
   "execution_count": 60,
   "metadata": {},
   "outputs": [
    {
     "data": {
      "text/plain": [
       "<matplotlib.axes._subplots.AxesSubplot at 0x285c75f6358>"
      ]
     },
     "execution_count": 60,
     "metadata": {},
     "output_type": "execute_result"
    },
    {
     "data": {
      "image/png": "[encoded data removed]",
      "text/plain": [
       "<Figure size 2160x720 with 2 Axes>"
      ]
     },
     "metadata": {},
     "output_type": "display_data"
    }
   ],
   "source": [
    "missingno.matrix(tempTrain, figsize = (30,10))"
   ]
  },
  {
   "cell_type": "code",
   "execution_count": 9,
   "metadata": {},
   "outputs": [
    {
     "data": {
      "text/plain": [
       "'\\ndef oneHotEncodeData(df):\\n    for column in df:\\n        print(df[column])\\n\\noneHotEncodeData(train)\\n'"
      ]
     },
     "execution_count": 9,
     "metadata": {},
     "output_type": "execute_result"
    }
   ],
   "source": [
    "'''\n",
    "def oneHotEncodeData(df):\n",
    "    for column in df:\n",
    "        print(df[column])\n",
    "\n",
    "oneHotEncodeData(train)\n",
    "'''"
   ]
  },
  {
   "cell_type": "code",
   "execution_count": 10,
   "metadata": {},
   "outputs": [
    {
     "data": {
      "text/plain": [
       "\"\\nraw_data = train.get_values()\\ncols = range(0,80)\\n\\n# Get all columns\\nX = raw_data[:,cols]\\nprint(X)\\n\\n# normalize : subtract mean and divide by std\\nN = len(X)\\nY = X - np.ones((N,1))#*X.mean(axis=0)\\nY\\n\\nY = Y*(1/np.std(Y,0))\\n\\n# compute the singular value decomposition with svd\\nU,S,V = svd(Y,full_matrices=False)\\n\\n# Compute variance explained by principal components\\nrho = (S*S) / (S*S).sum()\\n\\nthreshold = 0.9\\n\\n# Plot variance explained\\nplt.figure()\\nplt.plot(range(1,len(rho)+1),rho,'x-')\\nplt.plot(range(1,len(rho)+1),np.cumsum(rho),'o-')\\nplt.plot([1,len(rho)],[threshold, threshold],'k--')\\nplt.title('Variance explained by principal components');\\nplt.xlabel('Principal component');\\nplt.ylabel('Variance explained');\\nplt.legend(['Individual','Cumulative','Threshold'])\\nplt.grid()\\nplt.show()\\n\""
      ]
     },
     "execution_count": 10,
     "metadata": {},
     "output_type": "execute_result"
    }
   ],
   "source": [
    "# Get values from df\n",
    "'''\n",
    "raw_data = train.get_values()\n",
    "cols = range(0,80)\n",
    "\n",
    "# Get all columns\n",
    "X = raw_data[:,cols]\n",
    "print(X)\n",
    "\n",
    "# normalize : subtract mean and divide by std\n",
    "N = len(X)\n",
    "Y = X - np.ones((N,1))#*X.mean(axis=0)\n",
    "Y\n",
    "\n",
    "Y = Y*(1/np.std(Y,0))\n",
    "\n",
    "# compute the singular value decomposition with svd\n",
    "U,S,V = svd(Y,full_matrices=False)\n",
    "\n",
    "# Compute variance explained by principal components\n",
    "rho = (S*S) / (S*S).sum()\n",
    "\n",
    "threshold = 0.9\n",
    "\n",
    "# Plot variance explained\n",
    "plt.figure()\n",
    "plt.plot(range(1,len(rho)+1),rho,'x-')\n",
    "plt.plot(range(1,len(rho)+1),np.cumsum(rho),'o-')\n",
    "plt.plot([1,len(rho)],[threshold, threshold],'k--')\n",
    "plt.title('Variance explained by principal components');\n",
    "plt.xlabel('Principal component');\n",
    "plt.ylabel('Variance explained');\n",
    "plt.legend(['Individual','Cumulative','Threshold'])\n",
    "plt.grid()\n",
    "plt.show()\n",
    "'''"
   ]
  },
  {
   "cell_type": "code",
   "execution_count": null,
   "metadata": {},
   "outputs": [],
   "source": []
  }
 ],
 "metadata": {
  "kernelspec": {
   "display_name": "Python 3",
   "language": "python",
   "name": "python3"
  },
  "language_info": {
   "codemirror_mode": {
    "name": "ipython",
    "version": 3
   },
   "file_extension": ".py",
   "mimetype": "text/x-python",
   "name": "python",
   "nbconvert_exporter": "python",
   "pygments_lexer": "ipython3",
   "version": "3.7.1"
  }
 },
 "nbformat": 4,
 "nbformat_minor": 2
}
