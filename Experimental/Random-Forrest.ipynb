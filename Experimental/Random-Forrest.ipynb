{
 "cells": [
  {
   "cell_type": "markdown",
   "metadata": {},
   "source": [
    "# PREVIOUS WORK"
   ]
  },
  {
   "cell_type": "code",
   "execution_count": 58,
   "metadata": {},
   "outputs": [],
   "source": [
    "# Start Python Imports\n",
    "import math, time, random, datetime\n",
    "\n",
    "# Data Manipulation\n",
    "import numpy as np\n",
    "import pandas as pd\n",
    "\n",
    "# Visualization \n",
    "import matplotlib.pyplot as plt\n",
    "import missingno\n",
    "import seaborn as sns\n",
    "plt.style.use('seaborn-whitegrid')\n",
    "\n",
    "# Preprocessing\n",
    "from scipy.linalg import svd\n",
    "\n",
    "#*** GET DATA AND DROP DATA ***\n",
    "\n",
    "# Set the data equal to some variables so we can use them later\n",
    "train = pd.read_csv('./data/train.csv')\n",
    "test = pd.read_csv('./data/test.csv')\n",
    "sample_submission = pd.read_csv('./data/sample_submission.csv')\n",
    "\n",
    "# We remove the features Alley, FireplaceQu, PoolQC, Fence and MiscFeature from the dataset\n",
    "# Because of too many missing values\n",
    "# Drop SalePrice but store it as output variable (Y)\n",
    "train = train.drop([\"Alley\", \"FireplaceQu\", \"PoolQC\", \"Fence\", \"MiscFeature\"], axis=1)\n",
    "Y = train[\"SalePrice\"]\n",
    "#train = train.drop([\"SalePrice\", \"Id\", \"GarageArea\", \"YearBuilt\", \"GarageYrBlt\"], axis=1)\n",
    "\n",
    "#*** FILL VALUES ***\n",
    "# df is used as stand-in name for train\n",
    "# df is used as stand-in name for train\n",
    "def fill_missing_or_nan_values(df):\n",
    "    fill_with = 0\n",
    "    \n",
    "    # Get the most common element by using size(),\n",
    "    # which returns the element and how common it is\n",
    "    for column in df:\n",
    "        \n",
    "        # Check if the column is an object, float64 or int64\n",
    "        is_it_float = (df[column].dtype == np.float64)\n",
    "        is_it_int = (df[column].dtype == np.int64)\n",
    "        \n",
    "        # If it is an object,\n",
    "        # find the most common element and fill missing and NaN values\n",
    "        if(not is_it_float and not is_it_int):\n",
<<<<<<< HEAD
    "            value = df[column].mode().item()\n",
=======
    "            fill_with = df[column].mode().item()\n",
>>>>>>> e0526b3873c89fd3bfa3ab3f7f8d94778c12eccf
    "                    \n",
    "        # If it is either a float64 or int64,\n",
    "        # then calculate the mean and fill missing and NaN values\n",
    "        else:\n",
    "            if is_it_float:\n",
    "                fill_with = np.nanmean(df[column], dtype=np.float64)\n",
    "            if is_it_int:\n",
    "                fill_with = np.nanmean(df[column], dtype=np.int64)\n",
    "        \n",
    "        # Fill the values in our dataset\n",
    "        df[column] = df[column].fillna(fill_with)\n",
    "        fill_with = 0\n",
    "\n",
    "fill_missing_or_nan_values(train)\n",
<<<<<<< HEAD
    "train = pd.get_dummies(train, prefix_sep='_', drop_first=True)"
=======
    "fill_missing_or_nan_values(test)\n",
    "\n",
    "#*** ENCODING ***\n",
    "train = pd.get_dummies(train, prefix_sep='_')\n",
    "test = pd.get_dummies(test, prefix_sep='_')"
>>>>>>> e0526b3873c89fd3bfa3ab3f7f8d94778c12eccf
   ]
  },
  {
   "cell_type": "markdown",
   "metadata": {},
   "source": [
    "# RANDOM FOREST WORK"
   ]
  },
  {
   "cell_type": "code",
<<<<<<< HEAD
   "execution_count": 52,
   "metadata": {},
   "outputs": [
    {
     "data": {
      "text/plain": [
       "Exterior1st_CBlock    Exterior2nd_CBlock       1.000000e+00\n",
       "SaleType_New          SaleCondition_Partial    9.868190e-01\n",
       "Exterior1st_VinylSd   Exterior2nd_VinylSd      9.775249e-01\n",
       "Exterior1st_CemntBd   Exterior2nd_CmentBd      9.741711e-01\n",
       "Exterior1st_MetalSd   Exterior2nd_MetalSd      9.730652e-01\n",
       "RoofStyle_Gable       RoofStyle_Hip            9.334616e-01\n",
       "ExterQual_Gd          ExterQual_TA             9.061206e-01\n",
       "ExterCond_Gd          ExterCond_TA             8.945668e-01\n",
       "Exterior1st_HdBoard   Exterior2nd_HdBoard      8.832714e-01\n",
       "GarageCars            GarageArea               8.824754e-01\n",
       "MSZoning_FV           Neighborhood_Somerst     8.628071e-01\n",
       "Exterior1st_Wd Sdng   Exterior2nd_Wd Sdng      8.592439e-01\n",
       "Electrical_FuseA      Electrical_SBrkr         8.535544e-01\n",
       "GrLivArea             TotRmsAbvGrd             8.254894e-01\n",
       "KitchenQual_Gd        KitchenQual_TA           8.244565e-01\n",
       "TotalBsmtSF           1stFlrSF                 8.195300e-01\n",
       "GarageQual_Ex         GarageCond_Ex            8.162165e-01\n",
       "2ndFlrSF              HouseStyle_2Story        8.091498e-01\n",
       "MSZoning_RL           MSZoning_RM              8.085854e-01\n",
       "MasVnrType_BrkFace    MasVnrType_None          7.972247e-01\n",
       "OverallQual           SalePrice                7.909816e-01\n",
       "2ndFlrSF              HouseStyle_1Story        7.887493e-01\n",
       "GarageQual_TA         GarageCond_TA            7.862160e-01\n",
       "Foundation_CBlock     Foundation_PConc         7.815585e-01\n",
       "Exterior1st_Stucco    Exterior2nd_Stucco       7.806366e-01\n",
       "YearBuilt             GarageYrBlt              7.805550e-01\n",
       "SaleType_New          SaleType_WD              7.736803e-01\n",
       "SaleType_WD           SaleCondition_Partial    7.695593e-01\n",
       "BsmtQual_Gd           BsmtQual_TA              7.663905e-01\n",
       "Exterior1st_Plywood   Exterior2nd_Plywood      7.550853e-01\n",
       "                                                   ...     \n",
       "Exterior2nd_AsphShn   ExterQual_Gd             8.784692e-05\n",
       "LotConfig_CulDSac     Functional_Min1          7.955455e-05\n",
       "HalfBath              Condition1_Feedr         7.745614e-05\n",
       "WoodDeckSF            Condition2_RRNn          7.551887e-05\n",
       "SalePrice             BsmtFinType2_GLQ         7.551406e-05\n",
       "BldgType_Duplex       ExterCond_Fa             7.382551e-05\n",
       "HouseStyle_2Story     MasVnrType_Stone         7.207089e-05\n",
       "Id                    GarageYrBlt              7.026015e-05\n",
       "                      GarageCond_TA            6.754527e-05\n",
       "BsmtExposure_Av       BsmtFinType2_BLQ         6.164492e-05\n",
       "BsmtUnfSF             Electrical_FuseP         5.893951e-05\n",
       "RoofStyle_Gambrel     BsmtFinType1_Rec         5.656261e-05\n",
       "Condition1_RRAe       BsmtFinType1_Rec         5.656261e-05\n",
       "Neighborhood_NridgHt  Condition1_PosN          5.555920e-05\n",
       "                      BsmtFinType2_ALQ         5.555920e-05\n",
       "LotConfig_FR2         Functional_Min1          5.531008e-05\n",
       "BsmtFinType2_Rec      Electrical_FuseF         3.690077e-05\n",
       "Neighborhood_Mitchel  BsmtCond_TA              8.604863e-06\n",
       "                      GarageQual_TA            8.604863e-06\n",
       "YrSold                BldgType_TwnhsE          7.902109e-06\n",
       "                      Neighborhood_Timber      4.438693e-06\n",
       "Neighborhood_Edwards  ExterCond_Gd             1.663309e-16\n",
       "GarageYrBlt           ExterCond_Po             1.034146e-16\n",
       "                      Exterior1st_AsphShn      1.034146e-16\n",
       "LotFrontage           RoofStyle_Shed           7.315988e-18\n",
       "                      RoofMatl_Metal           5.171411e-18\n",
       "                      Functional_Sev           5.171411e-18\n",
       "                      Utilities_NoSeWa         5.171411e-18\n",
       "                      Condition2_RRAn          5.171411e-18\n",
       "                      Condition2_RRAe          5.171411e-18\n",
       "Length: 29890, dtype: float64"
      ]
     },
     "execution_count": 52,
     "metadata": {},
     "output_type": "execute_result"
    }
   ],
   "source": [
    "corr_matrix = train.corr().abs()\n",
    "\n",
    "#the matrix is symmetric so we need to extract upper triangle matrix without diagonal (k = 1)\n",
    "sol = (corr_matrix.where(np.triu(np.ones(corr_matrix.shape), k=1).astype(np.bool)).stack()\n",
    "            .sort_values(ascending=False))\n",
    "#first element of sol series is the pair with the bigest correlation\n",
    "sol"
   ]
  },
  {
   "cell_type": "code",
   "execution_count": null,
   "metadata": {},
   "outputs": [
    {
     "name": "stdout",
     "output_type": "stream",
     "text": [
      "Automatically created module for IPython interactive environment\n"
     ]
    },
    {
     "name": "stderr",
     "output_type": "stream",
     "text": [
      "C:\\Users\\caspe\\Anaconda3\\lib\\site-packages\\sklearn\\model_selection\\_split.py:652: Warning: The least populated class in y has only 1 members, which is too few. The minimum number of members in any class cannot be less than n_splits=2.\n",
      "  % (min_groups, self.n_splits)), Warning)\n"
     ]
    }
   ],
   "source": [
    "print(__doc__)\n",
    "\n",
    "import matplotlib.pyplot as plt\n",
    "from sklearn.svm import SVC\n",
    "from sklearn.model_selection import StratifiedKFold\n",
    "from sklearn.feature_selection import RFECV\n",
    "from sklearn.datasets import make_classification\n",
    "\n",
    "# Build a classification task using 3 informative features\n",
    "y = train[\"SalePrice\"]\n",
    "train = train.drop([\"SalePrice\"], axis=1)\n",
    "X = train\n",
    "\n",
    "# Create the RFE object and compute a cross-validated score.\n",
    "svc = SVC(kernel=\"linear\")\n",
    "# The \"accuracy\" scoring is proportional to the number of correct\n",
    "# classifications\n",
    "rfecv = RFECV(estimator=svc, step=1, cv=StratifiedKFold(2),\n",
    "              scoring='accuracy')\n",
    "rfecv.fit(X, y)\n",
    "\n",
    "print(\"Optimal number of features : %d\" % rfecv.n_features_)\n",
    "\n",
    "# Plot number of features VS. cross-validation scores\n",
    "plt.figure()\n",
    "plt.xlabel(\"Number of features selected\")\n",
    "plt.ylabel(\"Cross validation score (nb of correct classifications)\")\n",
    "plt.plot(range(1, len(rfecv.grid_scores_) + 1), rfecv.grid_scores_)\n",
    "plt.show()"
   ]
  },
  {
   "cell_type": "code",
   "execution_count": null,
=======
   "execution_count": 6,
>>>>>>> e0526b3873c89fd3bfa3ab3f7f8d94778c12eccf
   "metadata": {},
   "outputs": [],
   "source": [
    "from sklearn.ensemble import RandomForestRegressor\n",
    "from sklearn.datasets import make_regression"
   ]
  }
 ],
 "metadata": {
  "kernelspec": {
   "display_name": "Python 3",
   "language": "python",
   "name": "python3"
  },
  "language_info": {
   "codemirror_mode": {
    "name": "ipython",
    "version": 3
   },
   "file_extension": ".py",
   "mimetype": "text/x-python",
   "name": "python",
   "nbconvert_exporter": "python",
   "pygments_lexer": "ipython3",
   "version": "3.7.1"
  }
 },
 "nbformat": 4,
 "nbformat_minor": 2
}
